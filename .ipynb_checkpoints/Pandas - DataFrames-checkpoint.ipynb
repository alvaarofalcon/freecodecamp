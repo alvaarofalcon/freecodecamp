{
 "cells": [
  {
   "cell_type": "code",
   "execution_count": 1,
   "id": "ea32fd23",
   "metadata": {},
   "outputs": [],
   "source": [
    "import pandas as pd\n",
    "import numpy as np\n",
    "g7_pop = pd.Series([3.989, 6.804, 8.427, 5.881, 12.447, 6.702, 33.47], \n",
    "                     index = ['Canadá', 'Francia', 'Alemania', 'Italia', 'Japón', 'Reino Unido', 'Estados Unidos'], \n",
    "                     name = 'Población por 10 Millones')"
   ]
  },
  {
   "cell_type": "code",
   "execution_count": 2,
   "id": "56abb87d",
   "metadata": {},
   "outputs": [
    {
     "data": {
      "text/plain": [
       "Canadá             3.989\n",
       "Francia            6.804\n",
       "Alemania           8.427\n",
       "Italia             5.881\n",
       "Japón             12.447\n",
       "Reino Unido        6.702\n",
       "Estados Unidos    33.470\n",
       "Name: Población por 10 Millones, dtype: float64"
      ]
     },
     "execution_count": 2,
     "metadata": {},
     "output_type": "execute_result"
    }
   ],
   "source": [
    "g7_pop"
   ]
  },
  {
   "cell_type": "code",
   "execution_count": null,
   "id": "b96cc0cd",
   "metadata": {},
   "outputs": [],
   "source": []
  }
 ],
 "metadata": {
  "kernelspec": {
   "display_name": "Python 3 (ipykernel)",
   "language": "python",
   "name": "python3"
  },
  "language_info": {
   "codemirror_mode": {
    "name": "ipython",
    "version": 3
   },
   "file_extension": ".py",
   "mimetype": "text/x-python",
   "name": "python",
   "nbconvert_exporter": "python",
   "pygments_lexer": "ipython3",
   "version": "3.9.13"
  }
 },
 "nbformat": 4,
 "nbformat_minor": 5
}
