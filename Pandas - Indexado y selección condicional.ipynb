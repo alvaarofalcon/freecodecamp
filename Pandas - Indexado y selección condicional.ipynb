{
 "cells": [
  {
   "cell_type": "code",
   "execution_count": 1,
   "id": "d2b43281",
   "metadata": {},
   "outputs": [],
   "source": [
    "import pandas as pd\n",
    "import numpy as np"
   ]
  },
  {
   "cell_type": "code",
   "execution_count": 71,
   "id": "e3ef18dc",
   "metadata": {},
   "outputs": [],
   "source": [
    "g7_pop = pd.Series([3.989, 6.804, 8.427, 5.881, 12.447, 6.702, 33.47], \n",
    "                     index = ['Canadá', 'Francia', 'Alemania', 'Italia', 'Japón', 'Reino Unido', 'Estados Unidos'], \n",
    "                     name = 'Población por 10 Millones')"
   ]
  },
  {
   "cell_type": "code",
   "execution_count": 23,
   "id": "d08bcd19",
   "metadata": {},
   "outputs": [
    {
     "data": {
      "text/plain": [
       "Canadá             3.989\n",
       "Francia            6.804\n",
       "Alemania           8.427\n",
       "Italia             5.881\n",
       "Japón             12.447\n",
       "Reino Unido        6.702\n",
       "Estados Unidos    33.470\n",
       "Name: Población de los países del G7 / 10Millones, dtype: float64"
      ]
     },
     "execution_count": 23,
     "metadata": {},
     "output_type": "execute_result"
    }
   ],
   "source": [
    "g7_pop"
   ]
  },
  {
   "cell_type": "code",
   "execution_count": 24,
   "id": "477b136c",
   "metadata": {},
   "outputs": [
    {
     "data": {
      "text/plain": [
       "3.989"
      ]
     },
     "execution_count": 24,
     "metadata": {},
     "output_type": "execute_result"
    }
   ],
   "source": [
    "g7_pop['Canadá']"
   ]
  },
  {
   "cell_type": "code",
   "execution_count": null,
   "id": "574f0a35",
   "metadata": {},
   "outputs": [],
   "source": [
    "g7_pop['Japón']"
   ]
  },
  {
   "cell_type": "markdown",
   "id": "60561ee5",
   "metadata": {},
   "source": [
    "También se puede acceder a los elementos de la serie por su índice usando el atributo iloc"
   ]
  },
  {
   "cell_type": "code",
   "execution_count": 27,
   "id": "2c93d2a9",
   "metadata": {},
   "outputs": [
    {
     "data": {
      "text/plain": [
       "3.989"
      ]
     },
     "execution_count": 27,
     "metadata": {},
     "output_type": "execute_result"
    }
   ],
   "source": [
    "g7_pop.iloc[0]"
   ]
  },
  {
   "cell_type": "code",
   "execution_count": 28,
   "id": "590ceaa2",
   "metadata": {},
   "outputs": [
    {
     "data": {
      "text/plain": [
       "6.804"
      ]
     },
     "execution_count": 28,
     "metadata": {},
     "output_type": "execute_result"
    }
   ],
   "source": [
    "g7_pop.iloc[1]"
   ]
  },
  {
   "cell_type": "markdown",
   "id": "56990c26",
   "metadata": {},
   "source": [
    "Si pido más de un elemento a la vez, me devuelve otra serie"
   ]
  },
  {
   "cell_type": "code",
   "execution_count": 36,
   "id": "cb3e76d9",
   "metadata": {},
   "outputs": [
    {
     "data": {
      "text/plain": [
       "Francia            6.804\n",
       "Estados Unidos    33.470\n",
       "Name: Población por 10 Millones, dtype: float64"
      ]
     },
     "execution_count": 36,
     "metadata": {},
     "output_type": "execute_result"
    }
   ],
   "source": [
    "g7_pop[['Francia', 'Estados Unidos']]"
   ]
  },
  {
   "cell_type": "code",
   "execution_count": 37,
   "id": "87f889c4",
   "metadata": {},
   "outputs": [
    {
     "data": {
      "text/plain": [
       "Francia            6.804\n",
       "Estados Unidos    33.470\n",
       "Name: Población por 10 Millones, dtype: float64"
      ]
     },
     "execution_count": 37,
     "metadata": {},
     "output_type": "execute_result"
    }
   ],
   "source": [
    "g7_pop.iloc[[1, 6]]"
   ]
  },
  {
   "cell_type": "markdown",
   "id": "ab59aa01",
   "metadata": {},
   "source": [
    "Recortar series también se puede, pero aquí el índice superior SI SE TOMA si se lo indica con una STRING,\n",
    "no como en las listas de Python. Pero si se lo indica con números, NO LO TOMA."
   ]
  },
  {
   "cell_type": "code",
   "execution_count": 39,
   "id": "b468d4fe",
   "metadata": {},
   "outputs": [
    {
     "data": {
      "text/plain": [
       "Francia      6.804\n",
       "Alemania     8.427\n",
       "Italia       5.881\n",
       "Japón       12.447\n",
       "Name: Población por 10 Millones, dtype: float64"
      ]
     },
     "execution_count": 39,
     "metadata": {},
     "output_type": "execute_result"
    }
   ],
   "source": [
    "g7_pop['Francia':'Japón']"
   ]
  },
  {
   "cell_type": "code",
   "execution_count": 42,
   "id": "b9d5d295",
   "metadata": {},
   "outputs": [
    {
     "data": {
      "text/plain": [
       "Canadá       3.989\n",
       "Francia      6.804\n",
       "Alemania     8.427\n",
       "Italia       5.881\n",
       "Japón       12.447\n",
       "Name: Población por 10 Millones, dtype: float64"
      ]
     },
     "execution_count": 42,
     "metadata": {},
     "output_type": "execute_result"
    }
   ],
   "source": [
    "g7_pop.iloc[0:5]"
   ]
  },
  {
   "cell_type": "markdown",
   "id": "0070e48f",
   "metadata": {},
   "source": [
    "Selección condicional"
   ]
  },
  {
   "cell_type": "code",
   "execution_count": 43,
   "id": "15e0d15c",
   "metadata": {},
   "outputs": [
    {
     "data": {
      "text/plain": [
       "Canadá             3.989\n",
       "Francia            6.804\n",
       "Alemania           8.427\n",
       "Italia             5.881\n",
       "Japón             12.447\n",
       "Reino Unido        6.702\n",
       "Estados Unidos    33.470\n",
       "Name: Población por 10 Millones, dtype: float64"
      ]
     },
     "execution_count": 43,
     "metadata": {},
     "output_type": "execute_result"
    }
   ],
   "source": [
    "g7_pop"
   ]
  },
  {
   "cell_type": "code",
   "execution_count": 44,
   "id": "ab61fcc9",
   "metadata": {},
   "outputs": [
    {
     "data": {
      "text/plain": [
       "Canadá            False\n",
       "Francia           False\n",
       "Alemania           True\n",
       "Italia            False\n",
       "Japón              True\n",
       "Reino Unido       False\n",
       "Estados Unidos     True\n",
       "Name: Población por 10 Millones, dtype: bool"
      ]
     },
     "execution_count": 44,
     "metadata": {},
     "output_type": "execute_result"
    }
   ],
   "source": [
    "g7_pop > 7"
   ]
  },
  {
   "cell_type": "code",
   "execution_count": 45,
   "id": "1cc6c719",
   "metadata": {},
   "outputs": [
    {
     "data": {
      "text/plain": [
       "Alemania           8.427\n",
       "Japón             12.447\n",
       "Estados Unidos    33.470\n",
       "Name: Población por 10 Millones, dtype: float64"
      ]
     },
     "execution_count": 45,
     "metadata": {},
     "output_type": "execute_result"
    }
   ],
   "source": [
    "g7_pop[g7_pop>7]"
   ]
  },
  {
   "cell_type": "code",
   "execution_count": 56,
   "id": "c02ba97c",
   "metadata": {},
   "outputs": [
    {
     "data": {
      "text/plain": [
       "Canadá             3.989\n",
       "Francia            6.804\n",
       "Alemania           8.427\n",
       "Italia             5.881\n",
       "Japón             12.447\n",
       "Reino Unido        6.702\n",
       "Estados Unidos    33.470\n",
       "Name: Población por 10 Millones, dtype: float64"
      ]
     },
     "execution_count": 56,
     "metadata": {},
     "output_type": "execute_result"
    }
   ],
   "source": [
    "g7_pop"
   ]
  },
  {
   "cell_type": "code",
   "execution_count": 57,
   "id": "bd65574f",
   "metadata": {},
   "outputs": [
    {
     "data": {
      "text/plain": [
       "11.102857142857143"
      ]
     },
     "execution_count": 57,
     "metadata": {},
     "output_type": "execute_result"
    }
   ],
   "source": [
    "g7_pop.mean()"
   ]
  },
  {
   "cell_type": "code",
   "execution_count": 58,
   "id": "04ef770a",
   "metadata": {},
   "outputs": [
    {
     "data": {
      "text/plain": [
       "Japón             12.447\n",
       "Estados Unidos    33.470\n",
       "Name: Población por 10 Millones, dtype: float64"
      ]
     },
     "execution_count": 58,
     "metadata": {},
     "output_type": "execute_result"
    }
   ],
   "source": [
    "g7_pop[g7_pop > g7_pop.mean()]"
   ]
  },
  {
   "cell_type": "code",
   "execution_count": 59,
   "id": "ba76ac8e",
   "metadata": {},
   "outputs": [
    {
     "data": {
      "text/plain": [
       "10.206031573348696"
      ]
     },
     "execution_count": 59,
     "metadata": {},
     "output_type": "execute_result"
    }
   ],
   "source": [
    "g7_pop.std()"
   ]
  },
  {
   "cell_type": "code",
   "execution_count": 60,
   "id": "fcdc5c9d",
   "metadata": {},
   "outputs": [
    {
     "data": {
      "text/plain": [
       "Alemania     8.427\n",
       "Japón       12.447\n",
       "Name: Población por 10 Millones, dtype: float64"
      ]
     },
     "execution_count": 60,
     "metadata": {},
     "output_type": "execute_result"
    }
   ],
   "source": [
    "g7_pop[(g7_pop > 8) & (g7_pop < 20)]"
   ]
  },
  {
   "cell_type": "code",
   "execution_count": 64,
   "id": "9bbf70a3",
   "metadata": {},
   "outputs": [],
   "source": [
    "g7_pop['Japón'] = 12.45"
   ]
  },
  {
   "cell_type": "code",
   "execution_count": 62,
   "id": "0b5e5f43",
   "metadata": {},
   "outputs": [
    {
     "data": {
      "text/plain": [
       "Canadá             3.989\n",
       "Francia            6.804\n",
       "Alemania           8.427\n",
       "Italia             5.881\n",
       "Japón             12.450\n",
       "Reino Unido        6.702\n",
       "Estados Unidos    33.470\n",
       "Name: Población por 10 Millones, dtype: float64"
      ]
     },
     "execution_count": 62,
     "metadata": {},
     "output_type": "execute_result"
    }
   ],
   "source": [
    "g7_pop"
   ]
  },
  {
   "cell_type": "code",
   "execution_count": 67,
   "id": "94b06b40",
   "metadata": {},
   "outputs": [],
   "source": [
    "g7_pop[-1] = 33.5"
   ]
  },
  {
   "cell_type": "code",
   "execution_count": 68,
   "id": "ffd2d34d",
   "metadata": {},
   "outputs": [
    {
     "data": {
      "text/plain": [
       "Canadá             3.989\n",
       "Francia            6.804\n",
       "Alemania           8.427\n",
       "Italia             5.881\n",
       "Japón             12.450\n",
       "Reino Unido        6.702\n",
       "Estados Unidos    33.500\n",
       "Name: Población por 10 Millones, dtype: float64"
      ]
     },
     "execution_count": 68,
     "metadata": {},
     "output_type": "execute_result"
    }
   ],
   "source": [
    "g7_pop"
   ]
  },
  {
   "cell_type": "code",
   "execution_count": 69,
   "id": "21f6c984",
   "metadata": {},
   "outputs": [],
   "source": [
    "g7_pop[g7_pop<7] = 10 #Todos los países con población menor que 7 ahora tendrán población 10"
   ]
  },
  {
   "cell_type": "code",
   "execution_count": 72,
   "id": "a034bcb0",
   "metadata": {},
   "outputs": [
    {
     "data": {
      "text/plain": [
       "Canadá             3.989\n",
       "Francia            6.804\n",
       "Alemania           8.427\n",
       "Italia             5.881\n",
       "Japón             12.447\n",
       "Reino Unido        6.702\n",
       "Estados Unidos    33.470\n",
       "Name: Población por 10 Millones, dtype: float64"
      ]
     },
     "execution_count": 72,
     "metadata": {},
     "output_type": "execute_result"
    }
   ],
   "source": [
    "g7_pop"
   ]
  },
  {
   "cell_type": "code",
   "execution_count": null,
   "id": "7867428a",
   "metadata": {},
   "outputs": [],
   "source": []
  }
 ],
 "metadata": {
  "kernelspec": {
   "display_name": "Python 3 (ipykernel)",
   "language": "python",
   "name": "python3"
  },
  "language_info": {
   "codemirror_mode": {
    "name": "ipython",
    "version": 3
   },
   "file_extension": ".py",
   "mimetype": "text/x-python",
   "name": "python",
   "nbconvert_exporter": "python",
   "pygments_lexer": "ipython3",
   "version": "3.9.13"
  }
 },
 "nbformat": 4,
 "nbformat_minor": 5
}
