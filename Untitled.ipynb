{
 "cells": [
  {
   "cell_type": "code",
   "execution_count": 14,
   "id": "756affe2",
   "metadata": {},
   "outputs": [
    {
     "data": {
      "text/plain": [
       "array([[1, 2, 3],\n",
       "       [4, 5, 6],\n",
       "       [7, 8, 9]])"
      ]
     },
     "execution_count": 14,
     "metadata": {},
     "output_type": "execute_result"
    }
   ],
   "source": [
    "import numpy as np\n",
    "a = [1,2,3,4,5,6,7,8,9]\n",
    "matriz = np.array(a).reshape(3,3)\n",
    "matriz"
   ]
  },
  {
   "cell_type": "markdown",
   "id": "625c0e07",
   "metadata": {},
   "source": [
    "#### Promedios"
   ]
  },
  {
   "cell_type": "code",
   "execution_count": 18,
   "id": "76f1d2ea",
   "metadata": {},
   "outputs": [
    {
     "name": "stdout",
     "output_type": "stream",
     "text": [
      "[4. 5. 6.] [2. 5. 8.] 5.0\n"
     ]
    }
   ],
   "source": [
    "prm_col = np.mean(matriz, axis=0)\n",
    "prm_fil = np.mean(matriz, axis=1)\n",
    "prm_mtr = np.mean(matriz)\n",
    "print(prm_col, prm_fil, prm_mtr)"
   ]
  },
  {
   "cell_type": "markdown",
   "id": "7c62cbf4",
   "metadata": {},
   "source": [
    "#### Varianza"
   ]
  },
  {
   "cell_type": "code",
   "execution_count": 21,
   "id": "cd663c28",
   "metadata": {},
   "outputs": [
    {
     "name": "stdout",
     "output_type": "stream",
     "text": [
      "[6. 6. 6.] [0.66666667 0.66666667 0.66666667] 6.666666666666667\n"
     ]
    }
   ],
   "source": [
    "vrz_col = np.var(matriz, axis=0)\n",
    "vrz_fil = np.var(matriz, axis=1)\n",
    "vrz_mtr = np.var(matriz)\n",
    "print(vrz_col, vrz_fil, vrz_mtr)"
   ]
  },
  {
   "cell_type": "code",
   "execution_count": 22,
   "id": "24626d15",
   "metadata": {},
   "outputs": [
    {
     "name": "stdout",
     "output_type": "stream",
     "text": [
      "[2.44948974 2.44948974 2.44948974] [0.81649658 0.81649658 0.81649658] 2.581988897471611\n"
     ]
    }
   ],
   "source": [
    "std_col = np.std(matriz, axis=0)\n",
    "std_fil = np.std(matriz, axis=1)\n",
    "std_mtr = np.std(matriz)\n",
    "print(std_col, std_fil, std_mtr)"
   ]
  },
  {
   "cell_type": "code",
   "execution_count": 23,
   "id": "796fcab2",
   "metadata": {},
   "outputs": [
    {
     "name": "stdout",
     "output_type": "stream",
     "text": [
      "[7 8 9] [3 6 9] 9\n"
     ]
    }
   ],
   "source": [
    "max_col = np.max(matriz, axis=0)\n",
    "max_fil = np.max(matriz, axis=1)\n",
    "max_mtr = np.max(matriz)\n",
    "print(max_col, max_fil, max_mtr)"
   ]
  },
  {
   "cell_type": "code",
   "execution_count": 24,
   "id": "0e4d76be",
   "metadata": {},
   "outputs": [
    {
     "name": "stdout",
     "output_type": "stream",
     "text": [
      "[1 2 3] [1 4 7] 1\n"
     ]
    }
   ],
   "source": [
    "min_col = np.min(matriz, axis=0)\n",
    "min_fil = np.min(matriz, axis=1)\n",
    "min_mtr = np.min(matriz)\n",
    "print(min_col, min_fil, min_mtr)"
   ]
  },
  {
   "cell_type": "code",
   "execution_count": 25,
   "id": "72db2e44",
   "metadata": {},
   "outputs": [
    {
     "name": "stdout",
     "output_type": "stream",
     "text": [
      "[12 15 18] [ 6 15 24] 45\n"
     ]
    }
   ],
   "source": [
    "sum_col = np.sum(matriz, axis=0)\n",
    "sum_fil = np.sum(matriz, axis=1)\n",
    "sum_mtr = np.sum(matriz)\n",
    "print(sum_col, sum_fil, sum_mtr)"
   ]
  },
  {
   "cell_type": "code",
   "execution_count": 38,
   "id": "b9be5234",
   "metadata": {},
   "outputs": [],
   "source": [
    "import numpy as np\n",
    "def calculate(lista):\n",
    "    if type(lista) == list:\n",
    "        if len(lista) == 9:\n",
    "            matriz = np.array(lista).reshape(3,3)\n",
    "            prm_col = np.mean(matriz, axis=0)\n",
    "            prm_fil = np.mean(matriz, axis=1)\n",
    "            prm_mtr = np.mean(matriz)\n",
    "            vrz_col = np.var(matriz, axis=0)\n",
    "            vrz_fil = np.var(matriz, axis=1)\n",
    "            vrz_mtr = np.var(matriz)\n",
    "            std_col = np.std(matriz, axis=0)\n",
    "            std_fil = np.std(matriz, axis=1)\n",
    "            std_mtr = np.std(matriz)\n",
    "            max_col = np.max(matriz, axis=0)\n",
    "            max_fil = np.max(matriz, axis=1)\n",
    "            max_mtr = np.max(matriz)\n",
    "            min_col = np.min(matriz, axis=0)\n",
    "            min_fil = np.min(matriz, axis=1)\n",
    "            min_mtr = np.min(matriz)\n",
    "            sum_col = np.sum(matriz, axis=0)\n",
    "            sum_fil = np.sum(matriz, axis=1)\n",
    "            sum_mtr = np.sum(matriz)\n",
    "        else:\n",
    "            raise ValueError(\"List must contain nine numbers\")\n",
    "    else:\n",
    "        raise ValueError('A list is expected')\n",
    "        \n",
    "    resultado = {\n",
    "        'mean' : [prm_col, prm_fil, prm_mtr],\n",
    "        'variance' : [std_col, std_fil, std_mtr],\n",
    "        'standard deviation' : [std_col,std_fil, std_mtr],\n",
    "        'max' : [max_col, max_fil, max_mtr],\n",
    "        'min' : [min_col, min_fil, min_mtr],\n",
    "        'sum' : [sum_col, sum_fil, sum_mtr]\n",
    "                }\n",
    "    return resultado"
   ]
  },
  {
   "cell_type": "code",
   "execution_count": 39,
   "id": "af122d12",
   "metadata": {},
   "outputs": [
    {
     "data": {
      "text/plain": [
       "{'mean': [array([3., 4., 5.]), array([1., 4., 7.]), 4.0],\n",
       " 'variance': [array([2.44948974, 2.44948974, 2.44948974]),\n",
       "  array([0.81649658, 0.81649658, 0.81649658]),\n",
       "  2.581988897471611],\n",
       " 'standard deviation': [array([2.44948974, 2.44948974, 2.44948974]),\n",
       "  array([0.81649658, 0.81649658, 0.81649658]),\n",
       "  2.581988897471611],\n",
       " 'max': [array([6, 7, 8]), array([2, 5, 8]), 8],\n",
       " 'min': [array([0, 1, 2]), array([0, 3, 6]), 0],\n",
       " 'sum': [array([ 9, 12, 15]), array([ 3, 12, 21]), 36]}"
      ]
     },
     "execution_count": 39,
     "metadata": {},
     "output_type": "execute_result"
    }
   ],
   "source": [
    "calculate([0,1,2,3,4,5,6,7,8])"
   ]
  },
  {
   "cell_type": "code",
   "execution_count": null,
   "id": "6ad0ee2c",
   "metadata": {},
   "outputs": [],
   "source": []
  }
 ],
 "metadata": {
  "kernelspec": {
   "display_name": "Python 3 (ipykernel)",
   "language": "python",
   "name": "python3"
  },
  "language_info": {
   "codemirror_mode": {
    "name": "ipython",
    "version": 3
   },
   "file_extension": ".py",
   "mimetype": "text/x-python",
   "name": "python",
   "nbconvert_exporter": "python",
   "pygments_lexer": "ipython3",
   "version": "3.9.13"
  }
 },
 "nbformat": 4,
 "nbformat_minor": 5
}
