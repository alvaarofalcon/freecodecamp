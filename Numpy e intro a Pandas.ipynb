{
 "cells": [
  {
   "cell_type": "code",
   "execution_count": 2,
   "id": "75cee804",
   "metadata": {},
   "outputs": [
    {
     "data": {
      "text/plain": [
       "(3, 3)"
      ]
     },
     "execution_count": 2,
     "metadata": {},
     "output_type": "execute_result"
    }
   ],
   "source": [
    "import numpy as np\n",
    "a = np.array([\n",
    "    [1,2,3],\n",
    "    [4,6,8],\n",
    "    [5,7,9]\n",
    "])\n",
    "a.shape"
   ]
  },
  {
   "cell_type": "code",
   "execution_count": 5,
   "id": "10143b7a",
   "metadata": {},
   "outputs": [
    {
     "data": {
      "text/plain": [
       "(3, 3)"
      ]
     },
     "execution_count": 5,
     "metadata": {},
     "output_type": "execute_result"
    }
   ],
   "source": [
    "a.shape"
   ]
  },
  {
   "cell_type": "code",
   "execution_count": 6,
   "id": "9da9cf04",
   "metadata": {},
   "outputs": [
    {
     "data": {
      "text/plain": [
       "2"
      ]
     },
     "execution_count": 6,
     "metadata": {},
     "output_type": "execute_result"
    }
   ],
   "source": [
    "a.ndim"
   ]
  },
  {
   "cell_type": "code",
   "execution_count": 7,
   "id": "6fb19602",
   "metadata": {},
   "outputs": [
    {
     "data": {
      "text/plain": [
       "dtype('int32')"
      ]
     },
     "execution_count": 7,
     "metadata": {},
     "output_type": "execute_result"
    }
   ],
   "source": [
    "a.dtype"
   ]
  },
  {
   "cell_type": "code",
   "execution_count": 11,
   "id": "cc11f353",
   "metadata": {},
   "outputs": [
    {
     "data": {
      "text/plain": [
       "6"
      ]
     },
     "execution_count": 11,
     "metadata": {},
     "output_type": "execute_result"
    }
   ],
   "source": [
    "a[1,1]"
   ]
  },
  {
   "cell_type": "code",
   "execution_count": 12,
   "id": "5d1af4cf",
   "metadata": {},
   "outputs": [
    {
     "data": {
      "text/plain": [
       "6"
      ]
     },
     "execution_count": 12,
     "metadata": {},
     "output_type": "execute_result"
    }
   ],
   "source": [
    "a[1] [1]"
   ]
  },
  {
   "cell_type": "code",
   "execution_count": 13,
   "id": "8f7e789b",
   "metadata": {},
   "outputs": [
    {
     "data": {
      "text/plain": [
       "array([[1, 2],\n",
       "       [4, 6],\n",
       "       [5, 7]])"
      ]
     },
     "execution_count": 13,
     "metadata": {},
     "output_type": "execute_result"
    }
   ],
   "source": [
    "a[:, 0:2]"
   ]
  },
  {
   "cell_type": "code",
   "execution_count": 9,
   "id": "1244bbcf",
   "metadata": {},
   "outputs": [
    {
     "data": {
      "text/plain": [
       "array([20, 21, 22, 23, 24])"
      ]
     },
     "execution_count": 9,
     "metadata": {},
     "output_type": "execute_result"
    }
   ],
   "source": [
    "arange = np.arange(5)\n",
    "arange + 20"
   ]
  },
  {
   "cell_type": "code",
   "execution_count": 15,
   "id": "c385f7d8",
   "metadata": {},
   "outputs": [
    {
     "name": "stdout",
     "output_type": "stream",
     "text": [
      "[0 1 2 3 4]\n",
      "<class 'numpy.ndarray'>\n",
      "[ True  True  True  True False]\n"
     ]
    }
   ],
   "source": [
    "arange2 = np.arange(5)\n",
    "print(arange2)\n",
    "print(type(arange2))\n",
    "print(arange2 <=3)"
   ]
  },
  {
   "cell_type": "code",
   "execution_count": 22,
   "id": "38964f52",
   "metadata": {},
   "outputs": [],
   "source": [
    "import pandas as pd\n",
    "import numpy as np\n",
    "g7_pop = pd.Series([23.66, 6.7806, 3.54, 2, 12.543, 8.4235, 5, 1.253]) #Creo una serie pandas, cada valor tiene su índice"
   ]
  },
  {
   "cell_type": "code",
   "execution_count": 23,
   "id": "2c7192a8",
   "metadata": {},
   "outputs": [
    {
     "data": {
      "text/plain": [
       "0    23.6600\n",
       "1     6.7806\n",
       "2     3.5400\n",
       "3     2.0000\n",
       "4    12.5430\n",
       "5     8.4235\n",
       "6     5.0000\n",
       "7     1.2530\n",
       "dtype: float64"
      ]
     },
     "execution_count": 23,
     "metadata": {},
     "output_type": "execute_result"
    }
   ],
   "source": [
    "g7_pop"
   ]
  },
  {
   "cell_type": "code",
   "execution_count": 25,
   "id": "a7304e89",
   "metadata": {},
   "outputs": [],
   "source": [
    "g7_pop.name = 'Número de habitantes de 7 países' #Le doy nombre a la serie"
   ]
  },
  {
   "cell_type": "code",
   "execution_count": 26,
   "id": "e5c176e1",
   "metadata": {},
   "outputs": [
    {
     "data": {
      "text/plain": [
       "0    23.6600\n",
       "1     6.7806\n",
       "2     3.5400\n",
       "3     2.0000\n",
       "4    12.5430\n",
       "5     8.4235\n",
       "6     5.0000\n",
       "7     1.2530\n",
       "Name: Número de habitantes de 7 países, dtype: float64"
      ]
     },
     "execution_count": 26,
     "metadata": {},
     "output_type": "execute_result"
    }
   ],
   "source": [
    "g7_pop"
   ]
  },
  {
   "cell_type": "code",
   "execution_count": 29,
   "id": "ce518ad3",
   "metadata": {},
   "outputs": [
    {
     "data": {
      "text/plain": [
       "dtype('float64')"
      ]
     },
     "execution_count": 29,
     "metadata": {},
     "output_type": "execute_result"
    }
   ],
   "source": [
    "g7_pop.dtype"
   ]
  },
  {
   "cell_type": "code",
   "execution_count": 35,
   "id": "5ea8bb61",
   "metadata": {},
   "outputs": [
    {
     "data": {
      "text/plain": [
       "array([23.66  ,  6.7806,  3.54  ,  2.    , 12.543 ,  8.4235,  5.    ,\n",
       "        1.253 ])"
      ]
     },
     "execution_count": 35,
     "metadata": {},
     "output_type": "execute_result"
    }
   ],
   "source": [
    "g7_pop.values #Guarda los valores en un array? No debería ser numpy array?"
   ]
  },
  {
   "cell_type": "code",
   "execution_count": 36,
   "id": "7b18c27c",
   "metadata": {},
   "outputs": [
    {
     "data": {
      "text/plain": [
       "numpy.ndarray"
      ]
     },
     "execution_count": 36,
     "metadata": {},
     "output_type": "execute_result"
    }
   ],
   "source": [
    "type(g7_pop.values) #En efecto, es un np array"
   ]
  },
  {
   "cell_type": "code",
   "execution_count": 37,
   "id": "e604637d",
   "metadata": {},
   "outputs": [
    {
     "data": {
      "text/plain": [
       "23.66"
      ]
     },
     "execution_count": 37,
     "metadata": {},
     "output_type": "execute_result"
    }
   ],
   "source": [
    " g7_pop[0]"
   ]
  },
  {
   "cell_type": "code",
   "execution_count": 38,
   "id": "d1ec4eb9",
   "metadata": {},
   "outputs": [
    {
     "data": {
      "text/plain": [
       "6.7806"
      ]
     },
     "execution_count": 38,
     "metadata": {},
     "output_type": "execute_result"
    }
   ],
   "source": [
    "g7_pop[1]"
   ]
  },
  {
   "cell_type": "code",
   "execution_count": 39,
   "id": "af8ff42a",
   "metadata": {},
   "outputs": [
    {
     "data": {
      "text/plain": [
       "3.54"
      ]
     },
     "execution_count": 39,
     "metadata": {},
     "output_type": "execute_result"
    }
   ],
   "source": [
    "g7_pop[2]"
   ]
  },
  {
   "cell_type": "code",
   "execution_count": 41,
   "id": "9e32a3ec",
   "metadata": {},
   "outputs": [
    {
     "data": {
      "text/plain": [
       "RangeIndex(start=0, stop=8, step=1)"
      ]
     },
     "execution_count": 41,
     "metadata": {},
     "output_type": "execute_result"
    }
   ],
   "source": [
    "g7_pop.index"
   ]
  },
  {
   "cell_type": "markdown",
   "id": "9d07da89",
   "metadata": {},
   "source": [
    "Podemos darle nuestro propio valor a los índices"
   ]
  },
  {
   "cell_type": "code",
   "execution_count": 46,
   "id": "9af5aa61",
   "metadata": {},
   "outputs": [],
   "source": [
    "g7_pop.index = ['Argentina', \n",
    "              'Brasil', \n",
    "              'Uruguay',\n",
    "              'Paraguay', \n",
    "              'Chile', \n",
    "              'Bolivia', \n",
    "              'Perú',\n",
    "              'Colombia'\n",
    "             ]"
   ]
  },
  {
   "cell_type": "code",
   "execution_count": 47,
   "id": "c1fa7968",
   "metadata": {},
   "outputs": [
    {
     "data": {
      "text/plain": [
       "Argentina    23.6600\n",
       "Brasil        6.7806\n",
       "Uruguay       3.5400\n",
       "Paraguay      2.0000\n",
       "Chile        12.5430\n",
       "Bolivia       8.4235\n",
       "Perú          5.0000\n",
       "Colombia      1.2530\n",
       "Name: Número de habitantes de 7 países, dtype: float64"
      ]
     },
     "execution_count": 47,
     "metadata": {},
     "output_type": "execute_result"
    }
   ],
   "source": [
    "g7_pop"
   ]
  },
  {
   "cell_type": "markdown",
   "id": "c8efe3da",
   "metadata": {},
   "source": [
    "Se puede hacer todo esto en un solo paso"
   ]
  },
  {
   "cell_type": "code",
   "execution_count": 51,
   "id": "6b536343",
   "metadata": {},
   "outputs": [],
   "source": [
    "g4_pop = pd.Series([10, 4, 5, 3] ,index = ['Canadá', 'Ecuador', 'Puerto Rico', 'Honduras'], name= 'Población de 4 países')"
   ]
  },
  {
   "cell_type": "code",
   "execution_count": 52,
   "id": "8d3de2a1",
   "metadata": {},
   "outputs": [
    {
     "data": {
      "text/plain": [
       "Canadá         10\n",
       "Ecuador         4\n",
       "Puerto Rico     5\n",
       "Honduras        3\n",
       "Name: Población de 4 países, dtype: int64"
      ]
     },
     "execution_count": 52,
     "metadata": {},
     "output_type": "execute_result"
    }
   ],
   "source": [
    "g4_pop"
   ]
  },
  {
   "cell_type": "code",
   "execution_count": null,
   "id": "e4ab2ee0",
   "metadata": {},
   "outputs": [],
   "source": []
  }
 ],
 "metadata": {
  "kernelspec": {
   "display_name": "Python 3 (ipykernel)",
   "language": "python",
   "name": "python3"
  },
  "language_info": {
   "codemirror_mode": {
    "name": "ipython",
    "version": 3
   },
   "file_extension": ".py",
   "mimetype": "text/x-python",
   "name": "python",
   "nbconvert_exporter": "python",
   "pygments_lexer": "ipython3",
   "version": "3.9.13"
  }
 },
 "nbformat": 4,
 "nbformat_minor": 5
}
